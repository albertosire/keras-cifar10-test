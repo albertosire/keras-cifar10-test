{
  "nbformat": 4,
  "nbformat_minor": 0,
  "metadata": {
    "colab": {
      "name": "keras_cifar10_and_100.ipynb",
      "provenance": [],
      "authorship_tag": "ABX9TyMGltmS9fkAQj/mw+DkbYn1",
      "include_colab_link": true
    },
    "kernelspec": {
      "name": "python3",
      "display_name": "Python 3"
    },
    "accelerator": "GPU"
  },
  "cells": [
    {
      "cell_type": "markdown",
      "metadata": {
        "id": "view-in-github",
        "colab_type": "text"
      },
      "source": [
        "<a href=\"https://colab.research.google.com/github/albertosire/keras-cifar10-test/blob/main/keras_cifar10_and_100.ipynb\" target=\"_parent\"><img src=\"https://colab.research.google.com/assets/colab-badge.svg\" alt=\"Open In Colab\"/></a>"
      ]
    },
    {
      "cell_type": "code",
      "metadata": {
        "id": "AcMQ_vRnpOT1"
      },
      "source": [
        "%tensorflow_version 1.x\n",
        "from keras.models import Sequential\n",
        "from keras.layers.core import Dense, Dropout, Activation, Flatten\n",
        "from keras.layers.convolutional import Conv2D, MaxPooling2D, ZeroPadding2D\n",
        "from keras.layers.normalization import BatchNormalization\n",
        "from keras.regularizers import l2\n",
        "from keras.datasets import cifar10, cifar100\n",
        "from keras.optimizers import Adam\n",
        "from keras.utils import to_categorical\n",
        "import numpy as np\n",
        "\n",
        "np.random.seed(1000)\n",
        "\n",
        "(X_train10, Y_train10), (X_test10, Y_test10) = cifar10.load_data()\n",
        "(X_train100, Y_train100), (X_test100, Y_test100) = cifar100.load_data()"
      ],
      "execution_count": 20,
      "outputs": []
    },
    {
      "cell_type": "code",
      "metadata": {
        "id": "oJr5tAiarNZW"
      },
      "source": [
        "alexnet = Sequential()\n",
        "\n",
        "# Layer 1\n",
        "alexnet.add(Conv2D(96, (11, 11), input_shape=(32, 32, 3),\n",
        "  padding='same'))\n",
        "alexnet.add(BatchNormalization())\n",
        "alexnet.add(Activation('relu'))\n",
        "alexnet.add(MaxPooling2D(pool_size=(2, 2)))\n",
        "\n",
        "# Layer 2\n",
        "alexnet.add(Conv2D(256, (5, 5), padding='same'))\n",
        "alexnet.add(BatchNormalization())\n",
        "alexnet.add(Activation('relu'))\n",
        "alexnet.add(MaxPooling2D(pool_size=(2, 2)))\n",
        "\n",
        "# Layer 3\n",
        "alexnet.add(Conv2D(512, (3, 3), padding='same'))\n",
        "alexnet.add(BatchNormalization())\n",
        "alexnet.add(Activation('relu'))\n",
        "alexnet.add(MaxPooling2D(pool_size=(2, 2)))\n",
        "\n",
        "# Layer 4\n",
        "alexnet.add(Conv2D(1024, (3, 3), padding='same'))\n",
        "alexnet.add(BatchNormalization())\n",
        "alexnet.add(Activation('relu'))\n",
        "\n",
        "# Layer 5\n",
        "alexnet.add(Conv2D(1024, (3, 3), padding='same'))\n",
        "alexnet.add(BatchNormalization())\n",
        "alexnet.add(Activation('relu'))\n",
        "alexnet.add(MaxPooling2D(pool_size=(2, 2)))\n",
        "\n",
        "# Layer 6\n",
        "alexnet.add(Flatten())\n",
        "alexnet.add(Dense(4096))\n",
        "alexnet.add(BatchNormalization())\n",
        "alexnet.add(Activation('relu'))\n",
        "alexnet.add(Dropout(0.5))\n",
        "\n",
        "# Layer 7\n",
        "alexnet.add(Dense(4096))\n",
        "alexnet.add(BatchNormalization())\n",
        "alexnet.add(Activation('relu'))\n",
        "alexnet.add(Dropout(0.5))\n",
        "\n",
        "# Layer 8\n",
        "alexnet.add(Dense(100))\n",
        "alexnet.add(BatchNormalization())\n",
        "alexnet.add(Activation('softmax'))\n",
        "\n"
      ],
      "execution_count": 23,
      "outputs": []
    },
    {
      "cell_type": "code",
      "metadata": {
        "id": "3ClWhOBJrPp1",
        "outputId": "fa2b4f06-189f-484b-8390-1d94fba443b8",
        "colab": {
          "base_uri": "https://localhost:8080/",
          "height": 458
        }
      },
      "source": [
        "alexnet.compile(loss='categorical_crossentropy',\n",
        "              optimizer=Adam(lr=0.0001),\n",
        "              metrics=['accuracy'])\n",
        "\n",
        "alexnet.fit(X_train100 / 255.0, to_categorical(Y_train100),\n",
        "          batch_size=128,\n",
        "          shuffle=True,\n",
        "          epochs=10,\n",
        "          validation_data=(X_test100 / 255.0, to_categorical(Y_test100)))\n",
        "\n",
        "scores = alexnet.evaluate(X_test100 / 255.0, to_categorical(Y_test100))\n",
        "\n",
        "print('Loss: %.3f' % scores[0])\n",
        "print('Accuracy: %.3f' % scores[1])\n",
        "\n"
      ],
      "execution_count": 25,
      "outputs": [
        {
          "output_type": "stream",
          "text": [
            "Train on 50000 samples, validate on 10000 samples\n",
            "Epoch 1/10\n",
            "50000/50000 [==============================] - 45s 891us/step - loss: 3.7559 - accuracy: 0.1472 - val_loss: 4.9722 - val_accuracy: 0.0351\n",
            "Epoch 2/10\n",
            "50000/50000 [==============================] - 44s 872us/step - loss: 3.1246 - accuracy: 0.2686 - val_loss: 3.1809 - val_accuracy: 0.2710\n",
            "Epoch 3/10\n",
            "50000/50000 [==============================] - 43s 868us/step - loss: 2.7722 - accuracy: 0.3437 - val_loss: 3.0715 - val_accuracy: 0.2876\n",
            "Epoch 4/10\n",
            "50000/50000 [==============================] - 43s 867us/step - loss: 2.5106 - accuracy: 0.4047 - val_loss: 3.0528 - val_accuracy: 0.2819\n",
            "Epoch 5/10\n",
            "50000/50000 [==============================] - 43s 866us/step - loss: 2.2626 - accuracy: 0.4638 - val_loss: 2.6819 - val_accuracy: 0.3680\n",
            "Epoch 6/10\n",
            "50000/50000 [==============================] - 43s 863us/step - loss: 2.0084 - accuracy: 0.5270 - val_loss: 2.6970 - val_accuracy: 0.3529\n",
            "Epoch 7/10\n",
            "50000/50000 [==============================] - 43s 863us/step - loss: 1.7466 - accuracy: 0.5960 - val_loss: 2.5306 - val_accuracy: 0.4053\n",
            "Epoch 8/10\n",
            "50000/50000 [==============================] - 43s 864us/step - loss: 1.4659 - accuracy: 0.6749 - val_loss: 2.5922 - val_accuracy: 0.4023\n",
            "Epoch 9/10\n",
            "50000/50000 [==============================] - 43s 863us/step - loss: 1.1562 - accuracy: 0.7645 - val_loss: 2.6419 - val_accuracy: 0.3912\n",
            "Epoch 10/10\n",
            "50000/50000 [==============================] - 43s 862us/step - loss: 0.8650 - accuracy: 0.8471 - val_loss: 2.5137 - val_accuracy: 0.4284\n",
            "10000/10000 [==============================] - 4s 370us/step\n",
            "Loss: 2.514\n",
            "Accuracy: 0.428\n"
          ],
          "name": "stdout"
        }
      ]
    },
    {
      "cell_type": "code",
      "metadata": {
        "id": "8JsvbevPru-7"
      },
      "source": [
        "alexnet = Sequential()\n",
        "\n",
        "# Layer 1\n",
        "alexnet.add(Conv2D(96, (11, 11), input_shape=(32, 32, 3),\n",
        "  padding='same'))\n",
        "alexnet.add(BatchNormalization())\n",
        "alexnet.add(Activation('relu'))\n",
        "alexnet.add(MaxPooling2D(pool_size=(2, 2)))\n",
        "\n",
        "# Layer 2\n",
        "alexnet.add(Conv2D(256, (5, 5), padding='same'))\n",
        "alexnet.add(BatchNormalization())\n",
        "alexnet.add(Activation('relu'))\n",
        "alexnet.add(MaxPooling2D(pool_size=(2, 2)))\n",
        "\n",
        "# Layer 3\n",
        "alexnet.add(Conv2D(512, (3, 3), padding='same'))\n",
        "alexnet.add(BatchNormalization())\n",
        "alexnet.add(Activation('relu'))\n",
        "alexnet.add(MaxPooling2D(pool_size=(2, 2)))\n",
        "\n",
        "# Layer 4\n",
        "alexnet.add(Conv2D(1024, (3, 3), padding='same'))\n",
        "alexnet.add(BatchNormalization())\n",
        "alexnet.add(Activation('relu'))\n",
        "\n",
        "# Layer 5\n",
        "alexnet.add(Conv2D(1024, (3, 3), padding='same'))\n",
        "alexnet.add(BatchNormalization())\n",
        "alexnet.add(Activation('relu'))\n",
        "alexnet.add(MaxPooling2D(pool_size=(2, 2)))\n",
        "\n",
        "# Layer 6\n",
        "alexnet.add(Flatten())\n",
        "alexnet.add(Dense(4096))\n",
        "alexnet.add(BatchNormalization())\n",
        "alexnet.add(Activation('relu'))\n",
        "alexnet.add(Dropout(0.5))\n",
        "\n",
        "# Layer 7\n",
        "alexnet.add(Dense(4096))\n",
        "alexnet.add(BatchNormalization())\n",
        "alexnet.add(Activation('relu'))\n",
        "alexnet.add(Dropout(0.5))\n",
        "\n",
        "# Layer 8\n",
        "alexnet.add(Dense(10))\n",
        "alexnet.add(BatchNormalization())\n",
        "alexnet.add(Activation('softmax'))\n",
        "\n"
      ],
      "execution_count": 26,
      "outputs": []
    },
    {
      "cell_type": "code",
      "metadata": {
        "id": "skVMaq0fryUQ",
        "outputId": "5a326f71-de74-4295-bebe-de60e9d46563",
        "colab": {
          "base_uri": "https://localhost:8080/",
          "height": 458
        }
      },
      "source": [
        "alexnet.compile(loss='categorical_crossentropy',\n",
        "              optimizer=Adam(lr=0.0001),\n",
        "              metrics=['accuracy'])\n",
        "\n",
        "alexnet.fit(X_train10 / 255.0, to_categorical(Y_train10),\n",
        "          batch_size=128,\n",
        "          shuffle=True,\n",
        "          epochs=10,\n",
        "          validation_data=(X_test10 / 255.0, to_categorical(Y_test10)))\n",
        "\n",
        "scores = alexnet.evaluate(X_test10 / 255.0, to_categorical(Y_test10))\n",
        "\n",
        "print('Loss: %.3f' % scores[0])\n",
        "print('Accuracy: %.3f' % scores[1])"
      ],
      "execution_count": 27,
      "outputs": [
        {
          "output_type": "stream",
          "text": [
            "Train on 50000 samples, validate on 10000 samples\n",
            "Epoch 1/10\n",
            "50000/50000 [==============================] - 44s 888us/step - loss: 1.4601 - accuracy: 0.5040 - val_loss: 2.2531 - val_accuracy: 0.2133\n",
            "Epoch 2/10\n",
            "50000/50000 [==============================] - 43s 850us/step - loss: 1.1294 - accuracy: 0.6476 - val_loss: 1.5282 - val_accuracy: 0.5020\n",
            "Epoch 3/10\n",
            "50000/50000 [==============================] - 43s 855us/step - loss: 0.9530 - accuracy: 0.7203 - val_loss: 1.4928 - val_accuracy: 0.5258\n",
            "Epoch 4/10\n",
            "50000/50000 [==============================] - 43s 855us/step - loss: 0.8054 - accuracy: 0.7804 - val_loss: 1.2686 - val_accuracy: 0.5969\n",
            "Epoch 5/10\n",
            "50000/50000 [==============================] - 43s 853us/step - loss: 0.6659 - accuracy: 0.8371 - val_loss: 1.1826 - val_accuracy: 0.6293\n",
            "Epoch 6/10\n",
            "50000/50000 [==============================] - 43s 852us/step - loss: 0.5334 - accuracy: 0.8886 - val_loss: 1.1556 - val_accuracy: 0.6496\n",
            "Epoch 7/10\n",
            "50000/50000 [==============================] - 43s 853us/step - loss: 0.4119 - accuracy: 0.9319 - val_loss: 1.1374 - val_accuracy: 0.6558\n",
            "Epoch 8/10\n",
            "50000/50000 [==============================] - 43s 854us/step - loss: 0.3121 - accuracy: 0.9650 - val_loss: 1.2200 - val_accuracy: 0.6257\n",
            "Epoch 9/10\n",
            "50000/50000 [==============================] - 43s 860us/step - loss: 0.2428 - accuracy: 0.9828 - val_loss: 1.0551 - val_accuracy: 0.6849\n",
            "Epoch 10/10\n",
            "50000/50000 [==============================] - 43s 860us/step - loss: 0.2059 - accuracy: 0.9893 - val_loss: 1.1281 - val_accuracy: 0.6573\n",
            "10000/10000 [==============================] - 4s 369us/step\n",
            "Loss: 1.128\n",
            "Accuracy: 0.657\n"
          ],
          "name": "stdout"
        }
      ]
    },
    {
      "cell_type": "code",
      "metadata": {
        "id": "5F4aPQVGt9bj"
      },
      "source": [
        "# Initialize model\n",
        "alexnet = Sequential()\n",
        "\n",
        "# Layer 1\n",
        "alexnet.add(Conv2D(96, (3, 3), input_shape=(32, 32, 3),\n",
        "  padding='same'))\n",
        "alexnet.add(BatchNormalization())\n",
        "alexnet.add(Activation('relu'))\n",
        "alexnet.add(MaxPooling2D(pool_size=(2, 2)))\n",
        "\n",
        "# Layer 2\n",
        "alexnet.add(Conv2D(256, (5, 5), padding='same'))\n",
        "alexnet.add(BatchNormalization())\n",
        "alexnet.add(Activation('relu'))\n",
        "alexnet.add(MaxPooling2D(pool_size=(2, 2)))\n",
        "\n",
        "# Layer 3\n",
        "alexnet.add(Conv2D(512, (3, 3), padding='same'))\n",
        "alexnet.add(BatchNormalization())\n",
        "alexnet.add(Activation('relu'))\n",
        "alexnet.add(MaxPooling2D(pool_size=(2, 2)))\n",
        "\n",
        "# Layer 6\n",
        "alexnet.add(Flatten())\n",
        "alexnet.add(Dense(4096))\n",
        "alexnet.add(BatchNormalization())\n",
        "alexnet.add(Activation('relu'))\n",
        "alexnet.add(Dropout(0.5))\n",
        "\n",
        "# Layer 8\n",
        "alexnet.add(Dense(10))\n",
        "alexnet.add(BatchNormalization())\n",
        "alexnet.add(Activation('softmax'))\n",
        "\n"
      ],
      "execution_count": 30,
      "outputs": []
    },
    {
      "cell_type": "code",
      "metadata": {
        "id": "yFQNweDWuAfv",
        "outputId": "960564d2-2859-4504-a9a1-59e0ab02ffa9",
        "colab": {
          "base_uri": "https://localhost:8080/",
          "height": 458
        }
      },
      "source": [
        "alexnet.compile(loss='categorical_crossentropy',\n",
        "              optimizer=Adam(lr=0.0001),\n",
        "              metrics=['accuracy'])\n",
        "\n",
        "alexnet.fit(X_train10 / 255.0, to_categorical(Y_train10),\n",
        "          batch_size=128,\n",
        "          shuffle=True,\n",
        "          epochs=10,\n",
        "          validation_data=(X_test10 / 255.0, to_categorical(Y_test10)))\n",
        "\n",
        "scores = alexnet.evaluate(X_test10 / 255.0, to_categorical(Y_test10))\n",
        "\n",
        "print('Loss: %.3f' % scores[0])\n",
        "print('Accuracy: %.3f' % scores[1])"
      ],
      "execution_count": 31,
      "outputs": [
        {
          "output_type": "stream",
          "text": [
            "Train on 50000 samples, validate on 10000 samples\n",
            "Epoch 1/10\n",
            "50000/50000 [==============================] - 27s 534us/step - loss: 1.3169 - accuracy: 0.5859 - val_loss: 2.2067 - val_accuracy: 0.1740\n",
            "Epoch 2/10\n",
            "50000/50000 [==============================] - 25s 510us/step - loss: 1.0120 - accuracy: 0.7253 - val_loss: 1.1077 - val_accuracy: 0.6793\n",
            "Epoch 3/10\n",
            "50000/50000 [==============================] - 25s 504us/step - loss: 0.8556 - accuracy: 0.7955 - val_loss: 0.9913 - val_accuracy: 0.7199\n",
            "Epoch 4/10\n",
            "50000/50000 [==============================] - 25s 508us/step - loss: 0.7308 - accuracy: 0.8533 - val_loss: 0.9633 - val_accuracy: 0.7404\n",
            "Epoch 5/10\n",
            "50000/50000 [==============================] - 25s 505us/step - loss: 0.6178 - accuracy: 0.9032 - val_loss: 0.9118 - val_accuracy: 0.7470\n",
            "Epoch 6/10\n",
            "50000/50000 [==============================] - 25s 504us/step - loss: 0.5158 - accuracy: 0.9438 - val_loss: 0.9276 - val_accuracy: 0.7499\n",
            "Epoch 7/10\n",
            "50000/50000 [==============================] - 25s 503us/step - loss: 0.4275 - accuracy: 0.9700 - val_loss: 0.8991 - val_accuracy: 0.7468\n",
            "Epoch 8/10\n",
            "50000/50000 [==============================] - 25s 503us/step - loss: 0.3581 - accuracy: 0.9854 - val_loss: 0.8760 - val_accuracy: 0.7716\n",
            "Epoch 9/10\n",
            "50000/50000 [==============================] - 25s 506us/step - loss: 0.3061 - accuracy: 0.9917 - val_loss: 0.8506 - val_accuracy: 0.7681\n",
            "Epoch 10/10\n",
            "50000/50000 [==============================] - 25s 502us/step - loss: 0.2650 - accuracy: 0.9959 - val_loss: 0.8668 - val_accuracy: 0.7665\n",
            "10000/10000 [==============================] - 2s 206us/step\n",
            "Loss: 0.867\n",
            "Accuracy: 0.766\n"
          ],
          "name": "stdout"
        }
      ]
    }
  ]
}