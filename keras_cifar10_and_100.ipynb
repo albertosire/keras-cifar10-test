{
  "nbformat": 4,
  "nbformat_minor": 0,
  "metadata": {
    "colab": {
      "name": "keras_cifar10_and_100.ipynb",
      "provenance": [],
      "authorship_tag": "ABX9TyNqR17NYxdaWmyXTx5E1alF",
      "include_colab_link": true
    },
    "kernelspec": {
      "name": "python3",
      "display_name": "Python 3"
    },
    "accelerator": "GPU"
  },
  "cells": [
    {
      "cell_type": "markdown",
      "metadata": {
        "id": "view-in-github",
        "colab_type": "text"
      },
      "source": [
        "<a href=\"https://colab.research.google.com/github/albertosire/keras-cifar10-test/blob/main/keras_cifar10_and_100.ipynb\" target=\"_parent\"><img src=\"https://colab.research.google.com/assets/colab-badge.svg\" alt=\"Open In Colab\"/></a>"
      ]
    },
    {
      "cell_type": "code",
      "metadata": {
        "id": "AcMQ_vRnpOT1",
        "outputId": "434d60dc-346d-4c93-ea35-0456e283f0e4",
        "colab": {
          "base_uri": "https://localhost:8080/",
          "height": 54
        }
      },
      "source": [
        "%tensorflow_version 1.x\n",
        "from keras.models import Sequential\n",
        "from keras.layers.core import Dense, Dropout, Activation, Flatten\n",
        "from keras.layers.convolutional import Conv2D, MaxPooling2D, ZeroPadding2D\n",
        "from keras.layers.normalization import BatchNormalization\n",
        "from keras.regularizers import l2\n",
        "from keras.datasets import cifar10, cifar100\n",
        "from keras.optimizers import Adam\n",
        "from keras.utils import to_categorical\n",
        "import numpy as np"
      ],
      "execution_count": 1,
      "outputs": [
        {
          "output_type": "stream",
          "text": [
            "TensorFlow 1.x selected.\n"
          ],
          "name": "stdout"
        },
        {
          "output_type": "stream",
          "text": [
            "Using TensorFlow backend.\n"
          ],
          "name": "stderr"
        }
      ]
    },
    {
      "cell_type": "code",
      "metadata": {
        "id": "p_TDBjZXq4mt",
        "outputId": "6fc4969b-aefe-4241-deb9-d0f577822114",
        "colab": {
          "base_uri": "https://localhost:8080/",
          "height": 90
        }
      },
      "source": [
        "np.random.seed(1000)\n",
        "\n",
        "(X_train10, Y_train10), (X_test10, Y_test10) = cifar10.load_data()\n",
        "(X_train100, Y_train100), (X_test100, Y_test100) = cifar100.load_data()"
      ],
      "execution_count": 2,
      "outputs": [
        {
          "output_type": "stream",
          "text": [
            "Downloading data from https://www.cs.toronto.edu/~kriz/cifar-10-python.tar.gz\n",
            "170500096/170498071 [==============================] - 2s 0us/step\n",
            "Downloading data from https://www.cs.toronto.edu/~kriz/cifar-100-python.tar.gz\n",
            "169009152/169001437 [==============================] - 2s 0us/step\n"
          ],
          "name": "stdout"
        }
      ]
    },
    {
      "cell_type": "code",
      "metadata": {
        "id": "oJr5tAiarNZW",
        "outputId": "f6400514-4917-4e79-b124-6dbdc4d224bd",
        "colab": {
          "base_uri": "https://localhost:8080/",
          "height": 129
        }
      },
      "source": [
        "alexnet = Sequential()\n",
        "\n",
        "# Layer 1\n",
        "alexnet.add(Conv2D(96, (11, 11), input_shape=(32, 32, 3),\n",
        "  padding='same'))\n",
        "alexnet.add(BatchNormalization())\n",
        "alexnet.add(Activation('relu'))\n",
        "alexnet.add(MaxPooling2D(pool_size=(2, 2)))\n",
        "\n",
        "# Layer 2\n",
        "alexnet.add(Conv2D(256, (5, 5), padding='same'))\n",
        "alexnet.add(BatchNormalization())\n",
        "alexnet.add(Activation('relu'))\n",
        "alexnet.add(MaxPooling2D(pool_size=(2, 2)))\n",
        "\n",
        "# Layer 3\n",
        "alexnet.add(Conv2D(512, (3, 3), padding='same'))\n",
        "alexnet.add(BatchNormalization())\n",
        "alexnet.add(Activation('relu'))\n",
        "alexnet.add(MaxPooling2D(pool_size=(2, 2)))\n",
        "\n",
        "# Layer 4\n",
        "alexnet.add(Conv2D(1024, (3, 3), padding='same'))\n",
        "alexnet.add(BatchNormalization())\n",
        "alexnet.add(Activation('relu'))\n",
        "\n",
        "# Layer 5\n",
        "alexnet.add(Conv2D(1024, (3, 3), padding='same'))\n",
        "alexnet.add(BatchNormalization())\n",
        "alexnet.add(Activation('relu'))\n",
        "alexnet.add(MaxPooling2D(pool_size=(2, 2)))\n",
        "\n",
        "# Layer 6\n",
        "alexnet.add(Flatten())\n",
        "alexnet.add(Dense(4096))\n",
        "alexnet.add(BatchNormalization())\n",
        "alexnet.add(Activation('relu'))\n",
        "alexnet.add(Dropout(0.5))\n",
        "\n",
        "# Layer 7\n",
        "alexnet.add(Dense(4096))\n",
        "alexnet.add(BatchNormalization())\n",
        "alexnet.add(Activation('relu'))\n",
        "alexnet.add(Dropout(0.5))\n",
        "\n",
        "# Layer 8\n",
        "alexnet.add(Dense(10))\n",
        "alexnet.add(BatchNormalization())\n",
        "alexnet.add(Activation('softmax'))\n"
      ],
      "execution_count": 3,
      "outputs": [
        {
          "output_type": "stream",
          "text": [
            "WARNING:tensorflow:From /tensorflow-1.15.2/python3.6/tensorflow_core/python/ops/resource_variable_ops.py:1630: calling BaseResourceVariable.__init__ (from tensorflow.python.ops.resource_variable_ops) with constraint is deprecated and will be removed in a future version.\n",
            "Instructions for updating:\n",
            "If using Keras pass *_constraint arguments to layers.\n",
            "WARNING:tensorflow:From /tensorflow-1.15.2/python3.6/keras/backend/tensorflow_backend.py:4070: The name tf.nn.max_pool is deprecated. Please use tf.nn.max_pool2d instead.\n",
            "\n"
          ],
          "name": "stdout"
        }
      ]
    },
    {
      "cell_type": "code",
      "metadata": {
        "id": "3ClWhOBJrPp1",
        "outputId": "9d81d5b4-6b93-4843-c7b1-fce38be92de5",
        "colab": {
          "base_uri": "https://localhost:8080/",
          "height": 495
        }
      },
      "source": [
        "alexnet.compile(loss='categorical_crossentropy',\n",
        "              optimizer=Adam(lr=0.0001),\n",
        "              metrics=['accuracy'])\n",
        "\n",
        "alexnet.fit(X_train10 / 255.0, to_categorical(Y_train10),\n",
        "          batch_size=128,\n",
        "          shuffle=True,\n",
        "          epochs=10,\n",
        "          validation_data=(X_test10 / 255.0, to_categorical(Y_test10)))\n",
        "\n",
        "scores = alexnet.evaluate(X_test10 / 255.0, to_categorical(Y_test10))\n",
        "\n",
        "print('Loss: %.3f' % scores[0])\n",
        "print('Accuracy: %.3f' % scores[1])\n"
      ],
      "execution_count": 4,
      "outputs": [
        {
          "output_type": "stream",
          "text": [
            "WARNING:tensorflow:From /tensorflow-1.15.2/python3.6/keras/backend/tensorflow_backend.py:422: The name tf.global_variables is deprecated. Please use tf.compat.v1.global_variables instead.\n",
            "\n",
            "Train on 50000 samples, validate on 10000 samples\n",
            "Epoch 1/10\n",
            "50000/50000 [==============================] - 52s 1ms/step - loss: 1.4695 - accuracy: 0.4979 - val_loss: 2.6941 - val_accuracy: 0.1482\n",
            "Epoch 2/10\n",
            "50000/50000 [==============================] - 42s 831us/step - loss: 1.1343 - accuracy: 0.6433 - val_loss: 1.3116 - val_accuracy: 0.5726\n",
            "Epoch 3/10\n",
            "50000/50000 [==============================] - 42s 849us/step - loss: 0.9601 - accuracy: 0.7162 - val_loss: 1.2668 - val_accuracy: 0.5994\n",
            "Epoch 4/10\n",
            "50000/50000 [==============================] - 42s 843us/step - loss: 0.8114 - accuracy: 0.7754 - val_loss: 1.1616 - val_accuracy: 0.6335\n",
            "Epoch 5/10\n",
            "50000/50000 [==============================] - 42s 847us/step - loss: 0.6699 - accuracy: 0.8344 - val_loss: 1.0921 - val_accuracy: 0.6649\n",
            "Epoch 6/10\n",
            "50000/50000 [==============================] - 42s 848us/step - loss: 0.5312 - accuracy: 0.8885 - val_loss: 1.0841 - val_accuracy: 0.6761\n",
            "Epoch 7/10\n",
            "50000/50000 [==============================] - 42s 846us/step - loss: 0.4111 - accuracy: 0.9323 - val_loss: 1.1156 - val_accuracy: 0.6593\n",
            "Epoch 8/10\n",
            "50000/50000 [==============================] - 42s 846us/step - loss: 0.3141 - accuracy: 0.9635 - val_loss: 1.1441 - val_accuracy: 0.6505\n",
            "Epoch 9/10\n",
            "50000/50000 [==============================] - 42s 849us/step - loss: 0.2514 - accuracy: 0.9801 - val_loss: 1.0275 - val_accuracy: 0.6881\n",
            "Epoch 10/10\n",
            "50000/50000 [==============================] - 42s 848us/step - loss: 0.2023 - accuracy: 0.9907 - val_loss: 1.0512 - val_accuracy: 0.6818\n",
            "10000/10000 [==============================] - 4s 394us/step\n",
            "Loss: 1.051\n",
            "Accuracy: 0.682\n"
          ],
          "name": "stdout"
        }
      ]
    }
  ]
}