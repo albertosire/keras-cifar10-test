{
  "nbformat": 4,
  "nbformat_minor": 0,
  "metadata": {
    "colab": {
      "name": "keras_cifar10_atividade_previa.ipynb",
      "provenance": [],
      "authorship_tag": "ABX9TyP95I1RI7DQqdWQ8yAGQRFZ",
      "include_colab_link": true
    },
    "kernelspec": {
      "name": "python3",
      "display_name": "Python 3"
    },
    "accelerator": "GPU"
  },
  "cells": [
    {
      "cell_type": "markdown",
      "metadata": {
        "id": "view-in-github",
        "colab_type": "text"
      },
      "source": [
        "<a href=\"https://colab.research.google.com/github/albertosire/keras-cifar10-test/blob/main/keras_cifar10_atividade_previa.ipynb\" target=\"_parent\"><img src=\"https://colab.research.google.com/assets/colab-badge.svg\" alt=\"Open In Colab\"/></a>"
      ]
    },
    {
      "cell_type": "code",
      "metadata": {
        "id": "A21paYObC4uS"
      },
      "source": [
        "from __future__ import print_function\n",
        "from PIL import Image\n",
        "import requests\n",
        "from io import BytesIO\n",
        "\n",
        "import numpy as np\n",
        "\n",
        "from keras.callbacks import EarlyStopping\n",
        "from keras.datasets import cifar10\n",
        "from keras.models import Sequential\n",
        "from keras.layers.core import Dense, Dropout, Flatten\n",
        "from keras.layers.convolutional import Conv2D\n",
        "from keras.optimizers import Adam\n",
        "from keras.layers.pooling import MaxPooling2D\n",
        "from keras.utils import to_categorical\n"
      ],
      "execution_count": 1,
      "outputs": []
    },
    {
      "cell_type": "code",
      "metadata": {
        "id": "-Q1pJs-GDQUw",
        "outputId": "35f13d62-d9a2-4bf4-b9b1-0d4040e57aa5",
        "colab": {
          "base_uri": "https://localhost:8080/",
          "height": 54
        }
      },
      "source": [
        "np.random.seed(1000)\n",
        "\n",
        "(X_train, Y_train), (X_test, Y_test) = cifar10.load_data()\n",
        "\n",
        "# Create the model\n",
        "model = Sequential()\n",
        "\n",
        "model.add(Conv2D(32, kernel_size=(3, 3), activation='relu', input_shape=(32, 32, 3)))\n",
        "model.add(MaxPooling2D(pool_size=(2, 2)))\n",
        "model.add(Conv2D(64, kernel_size=(3, 3), activation='relu'))\n",
        "model.add(MaxPooling2D(pool_size=(2, 2)))\n",
        "model.add(Dropout(0.25))\n",
        "\n",
        "model.add(Flatten())\n",
        "model.add(Dense(1024, activation='relu'))\n",
        "model.add(Dropout(0.5))\n",
        "model.add(Dense(10, activation='softmax'))\n"
      ],
      "execution_count": 2,
      "outputs": [
        {
          "output_type": "stream",
          "text": [
            "Downloading data from https://www.cs.toronto.edu/~kriz/cifar-10-python.tar.gz\n",
            "170500096/170498071 [==============================] - 4s 0us/step\n"
          ],
          "name": "stdout"
        }
      ]
    },
    {
      "cell_type": "code",
      "metadata": {
        "id": "xPnChyc0DUZi",
        "outputId": "bd43b1c6-5625-4ea0-bc3f-de80aa26c1f7",
        "colab": {
          "base_uri": "https://localhost:8080/",
          "height": 439
        }
      },
      "source": [
        "model.compile(loss='categorical_crossentropy',\n",
        "              optimizer=Adam(lr=0.0001, decay=1e-6),\n",
        "              metrics=['accuracy'])\n",
        "\n",
        "model.fit(X_train / 255.0, to_categorical(Y_train),\n",
        "          batch_size=128,\n",
        "          shuffle=True,\n",
        "          epochs=10,\n",
        "          validation_data=(X_test / 255.0, to_categorical(Y_test)))\n",
        "\n",
        "scores = model.evaluate(X_test / 255.0, to_categorical(Y_test))\n",
        "\n",
        "print('Loss: %.3f' % scores[0])\n",
        "print('Accuracy: %.3f' % scores[1])\n"
      ],
      "execution_count": 3,
      "outputs": [
        {
          "output_type": "stream",
          "text": [
            "Epoch 1/10\n",
            "391/391 [==============================] - 2s 6ms/step - loss: 1.8955 - accuracy: 0.3161 - val_loss: 1.6024 - val_accuracy: 0.4348\n",
            "Epoch 2/10\n",
            "391/391 [==============================] - 2s 5ms/step - loss: 1.5292 - accuracy: 0.4544 - val_loss: 1.4060 - val_accuracy: 0.5099\n",
            "Epoch 3/10\n",
            "391/391 [==============================] - 2s 5ms/step - loss: 1.4015 - accuracy: 0.5008 - val_loss: 1.3255 - val_accuracy: 0.5340\n",
            "Epoch 4/10\n",
            "391/391 [==============================] - 2s 5ms/step - loss: 1.3324 - accuracy: 0.5283 - val_loss: 1.2631 - val_accuracy: 0.5566\n",
            "Epoch 5/10\n",
            "391/391 [==============================] - 2s 5ms/step - loss: 1.2823 - accuracy: 0.5487 - val_loss: 1.2252 - val_accuracy: 0.5751\n",
            "Epoch 6/10\n",
            "391/391 [==============================] - 2s 5ms/step - loss: 1.2364 - accuracy: 0.5638 - val_loss: 1.1850 - val_accuracy: 0.5882\n",
            "Epoch 7/10\n",
            "391/391 [==============================] - 2s 5ms/step - loss: 1.2034 - accuracy: 0.5765 - val_loss: 1.1553 - val_accuracy: 0.5945\n",
            "Epoch 8/10\n",
            "391/391 [==============================] - 2s 5ms/step - loss: 1.1718 - accuracy: 0.5878 - val_loss: 1.1300 - val_accuracy: 0.6075\n",
            "Epoch 9/10\n",
            "391/391 [==============================] - 2s 5ms/step - loss: 1.1453 - accuracy: 0.5990 - val_loss: 1.1008 - val_accuracy: 0.6192\n",
            "Epoch 10/10\n",
            "391/391 [==============================] - 2s 5ms/step - loss: 1.1200 - accuracy: 0.6072 - val_loss: 1.0972 - val_accuracy: 0.6187\n",
            "313/313 [==============================] - 1s 2ms/step - loss: 1.0972 - accuracy: 0.6187\n",
            "Loss: 1.097\n",
            "Accuracy: 0.619\n"
          ],
          "name": "stdout"
        }
      ]
    },
    {
      "cell_type": "code",
      "metadata": {
        "id": "QyqqBRlgDn7J",
        "outputId": "f61b1b7a-07bd-40bf-efe4-32b1c14dc519",
        "colab": {
          "base_uri": "https://localhost:8080/",
          "height": 35
        }
      },
      "source": [
        "response = requests.get('https://dl1.cbsistatic.com/i/r/2017/02/01/4094f803-44d1-47e0-a22f-6d48f65727b5/thumbnail/32x32/4188676421c43926bfcb5f3329ffacb6/fmimg586302198861076950.png')\n",
        "img = Image.open(BytesIO(response.content))\n",
        "img = np.expand_dims(img, axis=0)\n",
        "img = img[:,:,:,:3]\n",
        "\n",
        "print(model.predict(img))\n"
      ],
      "execution_count": 4,
      "outputs": [
        {
          "output_type": "stream",
          "text": [
            "[[1. 0. 0. 0. 0. 0. 0. 0. 0. 0.]]\n"
          ],
          "name": "stdout"
        }
      ]
    },
    {
      "cell_type": "code",
      "metadata": {
        "id": "cycTV1cGNelr"
      },
      "source": [
        "import cv2"
      ],
      "execution_count": 5,
      "outputs": []
    },
    {
      "cell_type": "code",
      "metadata": {
        "id": "JgVxFR_TNkvn",
        "outputId": "e1d2c800-170e-4835-e1c0-9a395f421a01",
        "colab": {
          "base_uri": "https://localhost:8080/",
          "height": 35
        }
      },
      "source": [
        "response = requests.get('https://miro.medium.com/max/700/0*kp8rJzqHjagMj22J')\n",
        "\n",
        "img = Image.open(BytesIO(response.content))\n",
        "\n",
        "img = img.resize((32, 32), Image.ANTIALIAS)\n",
        "\n",
        "img = np.expand_dims(img, axis=0)\n",
        "img = img[:,:,:,:3]\n",
        "\n",
        "print(model.predict(img))"
      ],
      "execution_count": 15,
      "outputs": [
        {
          "output_type": "stream",
          "text": [
            "[[1. 0. 0. 0. 0. 0. 0. 0. 0. 0.]]\n"
          ],
          "name": "stdout"
        }
      ]
    },
    {
      "cell_type": "code",
      "metadata": {
        "id": "1uvQYvCeNpcJ"
      },
      "source": [
        ""
      ],
      "execution_count": null,
      "outputs": []
    }
  ]
}